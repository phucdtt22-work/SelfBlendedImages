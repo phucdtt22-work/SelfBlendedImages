{
 "cells": [
  {
   "cell_type": "code",
   "execution_count": null,
   "id": "e46c7ecb",
   "metadata": {},
   "outputs": [],
   "source": [
    "import numpy as np\n",
    "import cv2\n",
    "from PIL import Image\n",
    "import sys\n",
    "import os\n",
    "from tqdm import tqdm\n",
    "\n",
    "def extract_frames(filename, num_frames, image_size=(380,380)):\n",
    "\tcap_org = cv2.VideoCapture(filename)\n",
    "\t\n",
    "\tif not cap_org.isOpened():\n",
    "\t\tprint(f'Cannot open: {filename}')\n",
    "\t\t# Return empty lists instead of None\n",
    "\t\treturn [], []\n",
    "\t\n",
    "\tcroppedfaces=[]\n",
    "\tidx_list=[]\n",
    "\tframe_count_org = int(cap_org.get(cv2.CAP_PROP_FRAME_COUNT))\n",
    "\t\n",
    "\tif frame_count_org == 0:\n",
    "\t\tprint(f'No frames in video: {filename}')\n",
    "\t\tcap_org.release()\n",
    "\t\treturn [], []\n",
    "\t\n",
    "\tframe_idxs = np.linspace(0, frame_count_org - 1, num_frames, endpoint=True, dtype=int)\n",
    "\tfor cnt_frame in range(frame_count_org): \n",
    "\t\tret_org, frame_org = cap_org.read()\n",
    "\t\t\n",
    "\t\tif not ret_org:\n",
    "\t\t\ttqdm.write('Frame read {} Error! : {}'.format(cnt_frame,os.path.basename(filename)))\n",
    "\t\t\tbreak\n",
    "\t\t\n",
    "\t\t# Check if frame_org is None or empty\n",
    "\t\tif frame_org is None:\n",
    "\t\t\tcontinue\n",
    "\t\t\t\n",
    "\t\tif cnt_frame not in frame_idxs:\n",
    "\t\t\tcontinue\n",
    "\n",
    "\t\t# Since video is pre-cropped to face, treat the entire frame as the face\n",
    "\t\t# Convert BGR to RGB if necessary (depending on video format)\n",
    "\t\tframe = cv2.cvtColor(frame_org, cv2.COLOR_BGR2RGB)\n",
    "\t\t\n",
    "\t\t# Resize to image_size\n",
    "\t\tresized_frame = cv2.resize(frame, image_size)\n",
    "\t\t\n",
    "\t\t# Transpose to (C, H, W)\n",
    "\t\tcroppedfaces.append(resized_frame.transpose((2, 0, 1)))\n",
    "\t\tidx_list.append(cnt_frame)\n",
    "\t\n",
    "\tcap_org.release()\n",
    "\t# Always return lists (even if empty)\n",
    "\treturn croppedfaces, idx_list\n",
    "\n",
    "def extract_face(frame,model,image_size=(380,380)):\n",
    "\t\n",
    "\t\n",
    "\tfaces = model.predict_jsons(frame)\n",
    "\n",
    "\tif len(faces)==0:\n",
    "\t\tprint('No face is detected' )\n",
    "\t\treturn []\n",
    "\n",
    "\tcroppedfaces=[]\n",
    "\tfor face_idx in range(len(faces)):\n",
    "\t\tx0,y0,x1,y1=faces[face_idx]['bbox']\n",
    "\t\tbbox=np.array([[x0,y0],[x1,y1]])\n",
    "\t\tcroppedfaces.append(cv2.resize(crop_face(frame,None,bbox,False,crop_by_bbox=True,only_img=True,phase='test'),dsize=image_size).transpose((2,0,1)))\n",
    "\t\n",
    "\treturn croppedfaces\n",
    "\n",
    "\n",
    "def crop_face(img,landmark=None,bbox=None,margin=False,crop_by_bbox=True,abs_coord=False,only_img=False,phase='train'):\n",
    "\tassert phase in ['train','val','test']\n",
    "\n",
    "\t#crop face------------------------------------------\n",
    "\tH,W=len(img),len(img[0])\n",
    "\n",
    "\tassert landmark is not None or bbox is not None\n",
    "\n",
    "\tH,W=len(img),len(img[0])\n",
    "\t\n",
    "\tif crop_by_bbox:\n",
    "\t\tx0,y0=bbox[0]\n",
    "\t\tx1,y1=bbox[1]\n",
    "\t\tw=x1-x0\n",
    "\t\th=y1-y0\n",
    "\t\tw0_margin=w/4#0#np.random.rand()*(w/8)\n",
    "\t\tw1_margin=w/4\n",
    "\t\th0_margin=h/4#0#np.random.rand()*(h/5)\n",
    "\t\th1_margin=h/4\n",
    "\telse:\n",
    "\t\tx0,y0=landmark[:68,0].min(),landmark[:68,1].min()\n",
    "\t\tx1,y1=landmark[:68,0].max(),landmark[:68,1].max()\n",
    "\t\tw=x1-x0\n",
    "\t\th=y1-y0\n",
    "\t\tw0_margin=w/8#0#np.random.rand()*(w/8)\n",
    "\t\tw1_margin=w/8\n",
    "\t\th0_margin=h/2#0#np.random.rand()*(h/5)\n",
    "\t\th1_margin=h/5\n",
    "\n",
    "\t\n",
    "\n",
    "\tif margin:\n",
    "\t\tw0_margin*=4\n",
    "\t\tw1_margin*=4\n",
    "\t\th0_margin*=2\n",
    "\t\th1_margin*=2\n",
    "\telif phase=='train':\n",
    "\t\tw0_margin*=(np.random.rand()*0.6+0.2)#np.random.rand()\n",
    "\t\tw1_margin*=(np.random.rand()*0.6+0.2)#np.random.rand()\n",
    "\t\th0_margin*=(np.random.rand()*0.6+0.2)#np.random.rand()\n",
    "\t\th1_margin*=(np.random.rand()*0.6+0.2)#np.random.rand()\t\n",
    "\telse:\n",
    "\t\tw0_margin*=0.5\n",
    "\t\tw1_margin*=0.5\n",
    "\t\th0_margin*=0.5\n",
    "\t\th1_margin*=0.5\n",
    "\t\t\t\n",
    "\ty0_new=max(0,int(y0-h0_margin))\n",
    "\ty1_new=min(H,int(y1+h1_margin)+1)\n",
    "\tx0_new=max(0,int(x0-w0_margin))\n",
    "\tx1_new=min(W,int(x1+w1_margin)+1)\n",
    "\t\n",
    "\timg_cropped=img[y0_new:y1_new,x0_new:x1_new]\n",
    "\tif landmark is not None:\n",
    "\t\tlandmark_cropped=np.zeros_like(landmark)\n",
    "\t\tfor i,(p,q) in enumerate(landmark):\n",
    "\t\t\tlandmark_cropped[i]=[p-x0_new,q-y0_new]\n",
    "\telse:\n",
    "\t\tlandmark_cropped=None\n",
    "\tif bbox is not None:\n",
    "\t\tbbox_cropped=np.zeros_like(bbox)\n",
    "\t\tfor i,(p,q) in enumerate(bbox):\n",
    "\t\t\tbbox_cropped[i]=[p-x0_new,q-y0_new]\n",
    "\telse:\n",
    "\t\tbbox_cropped=None\n",
    "\n",
    "\tif only_img:\n",
    "\t\treturn img_cropped\n",
    "\tif abs_coord:\n",
    "\t\treturn img_cropped,landmark_cropped,bbox_cropped,(y0-y0_new,x0-x0_new,y1_new-y1,x1_new-x1),y0_new,y1_new,x0_new,x1_new\n",
    "\telse:\n",
    "\t\treturn img_cropped,landmark_cropped,bbox_cropped,(y0-y0_new,x0-x0_new,y1_new-y1,x1_new-x1)"
   ]
  },
  {
   "cell_type": "code",
   "execution_count": 1,
   "id": "0b7a4f8a",
   "metadata": {},
   "outputs": [],
   "source": [
    "import numpy as np\n",
    "import cv2\n",
    "from PIL import Image\n",
    "import sys\n",
    "import os\n",
    "from tqdm import tqdm\n",
    "\n",
    "def extract_frames(filename, num_frames, image_size=(380,380)):\n",
    "\tcap_org = cv2.VideoCapture(filename)\n",
    "\t\n",
    "\tif not cap_org.isOpened():\n",
    "\t\tprint(f'Cannot open: {filename}')\n",
    "\t\t# Return empty lists instead of None\n",
    "\t\treturn [], []\n",
    "\t\n",
    "\tcroppedfaces=[]\n",
    "\tidx_list=[]\n",
    "\tframe_count_org = int(cap_org.get(cv2.CAP_PROP_FRAME_COUNT))\n",
    "\t\n",
    "\tif frame_count_org == 0:\n",
    "\t\tprint(f'No frames in video: {filename}')\n",
    "\t\tcap_org.release()\n",
    "\t\treturn [], []\n",
    "\t\n",
    "\tframe_idxs = np.linspace(0, frame_count_org - 1, num_frames, endpoint=True, dtype=int)\n",
    "\tfor cnt_frame in range(frame_count_org): \n",
    "\t\tret_org, frame_org = cap_org.read()\n",
    "\t\t\n",
    "\t\tif not ret_org:\n",
    "\t\t\ttqdm.write('Frame read {} Error! : {}'.format(cnt_frame,os.path.basename(filename)))\n",
    "\t\t\tbreak\n",
    "\t\t\n",
    "\t\t# Check if frame_org is None or empty\n",
    "\t\tif frame_org is None:\n",
    "\t\t\tcontinue\n",
    "\t\t\t\n",
    "\t\tif cnt_frame not in frame_idxs:\n",
    "\t\t\tcontinue\n",
    "\n",
    "\t\t# Since video is pre-cropped to face, treat the entire frame as the face\n",
    "\t\t# Convert BGR to RGB if necessary (depending on video format)\n",
    "\t\tframe = cv2.cvtColor(frame_org, cv2.COLOR_BGR2RGB)\n",
    "\t\t\n",
    "\t\t# Resize to image_size\n",
    "\t\tresized_frame = cv2.resize(frame, image_size)\n",
    "\t\t\n",
    "\t\t# Transpose to (C, H, W)\n",
    "\t\tcroppedfaces.append(resized_frame.transpose((2, 0, 1)))\n",
    "\t\tidx_list.append(cnt_frame)\n",
    "\t\n",
    "\tcap_org.release()\n",
    "\t# Always return lists (even if empty)\n",
    "\treturn croppedfaces, idx_list\n",
    "\n",
    "def extract_face(frame,model,image_size=(380,380)):\n",
    "\t\n",
    "\t\n",
    "\tfaces = model.predict_jsons(frame)\n",
    "\n",
    "\tif len(faces)==0:\n",
    "\t\tprint('No face is detected' )\n",
    "\t\treturn []\n",
    "\n",
    "\tcroppedfaces=[]\n",
    "\tfor face_idx in range(len(faces)):\n",
    "\t\tx0,y0,x1,y1=faces[face_idx]['bbox']\n",
    "\t\tbbox=np.array([[x0,y0],[x1,y1]])\n",
    "\t\tcroppedfaces.append(cv2.resize(crop_face(frame,None,bbox,False,crop_by_bbox=True,only_img=True,phase='test'),dsize=image_size).transpose((2,0,1)))\n",
    "\t\n",
    "\treturn croppedfaces\n",
    "\n",
    "\n",
    "def crop_face(img,landmark=None,bbox=None,margin=False,crop_by_bbox=True,abs_coord=False,only_img=False,phase='train'):\n",
    "\tassert phase in ['train','val','test']\n",
    "\n",
    "\t#crop face------------------------------------------\n",
    "\tH,W=len(img),len(img[0])\n",
    "\n",
    "\tassert landmark is not None or bbox is not None\n",
    "\n",
    "\tH,W=len(img),len(img[0])\n",
    "\t\n",
    "\tif crop_by_bbox:\n",
    "\t\tx0,y0=bbox[0]\n",
    "\t\tx1,y1=bbox[1]\n",
    "\t\tw=x1-x0\n",
    "\t\th=y1-y0\n",
    "\t\tw0_margin=w/4#0#np.random.rand()*(w/8)\n",
    "\t\tw1_margin=w/4\n",
    "\t\th0_margin=h/4#0#np.random.rand()*(h/5)\n",
    "\t\th1_margin=h/4\n",
    "\telse:\n",
    "\t\tx0,y0=landmark[:68,0].min(),landmark[:68,1].min()\n",
    "\t\tx1,y1=landmark[:68,0].max(),landmark[:68,1].max()\n",
    "\t\tw=x1-x0\n",
    "\t\th=y1-y0\n",
    "\t\tw0_margin=w/8#0#np.random.rand()*(w/8)\n",
    "\t\tw1_margin=w/8\n",
    "\t\th0_margin=h/2#0#np.random.rand()*(h/5)\n",
    "\t\th1_margin=h/5\n",
    "\n",
    "\t\n",
    "\n",
    "\tif margin:\n",
    "\t\tw0_margin*=4\n",
    "\t\tw1_margin*=4\n",
    "\t\th0_margin*=2\n",
    "\t\th1_margin*=2\n",
    "\telif phase=='train':\n",
    "\t\tw0_margin*=(np.random.rand()*0.6+0.2)#np.random.rand()\n",
    "\t\tw1_margin*=(np.random.rand()*0.6+0.2)#np.random.rand()\n",
    "\t\th0_margin*=(np.random.rand()*0.6+0.2)#np.random.rand()\n",
    "\t\th1_margin*=(np.random.rand()*0.6+0.2)#np.random.rand()\t\n",
    "\telse:\n",
    "\t\tw0_margin*=0.5\n",
    "\t\tw1_margin*=0.5\n",
    "\t\th0_margin*=0.5\n",
    "\t\th1_margin*=0.5\n",
    "\t\t\t\n",
    "\ty0_new=max(0,int(y0-h0_margin))\n",
    "\ty1_new=min(H,int(y1+h1_margin)+1)\n",
    "\tx0_new=max(0,int(x0-w0_margin))\n",
    "\tx1_new=min(W,int(x1+w1_margin)+1)\n",
    "\t\n",
    "\timg_cropped=img[y0_new:y1_new,x0_new:x1_new]\n",
    "\tif landmark is not None:\n",
    "\t\tlandmark_cropped=np.zeros_like(landmark)\n",
    "\t\tfor i,(p,q) in enumerate(landmark):\n",
    "\t\t\tlandmark_cropped[i]=[p-x0_new,q-y0_new]\n",
    "\telse:\n",
    "\t\tlandmark_cropped=None\n",
    "\tif bbox is not None:\n",
    "\t\tbbox_cropped=np.zeros_like(bbox)\n",
    "\t\tfor i,(p,q) in enumerate(bbox):\n",
    "\t\t\tbbox_cropped[i]=[p-x0_new,q-y0_new]\n",
    "\telse:\n",
    "\t\tbbox_cropped=None\n",
    "\n",
    "\tif only_img:\n",
    "\t\treturn img_cropped\n",
    "\tif abs_coord:\n",
    "\t\treturn img_cropped,landmark_cropped,bbox_cropped,(y0-y0_new,x0-x0_new,y1_new-y1,x1_new-x1),y0_new,y1_new,x0_new,x1_new\n",
    "\telse:\n",
    "\t\treturn img_cropped,landmark_cropped,bbox_cropped,(y0-y0_new,x0-x0_new,y1_new-y1,x1_new-x1)"
   ]
  },
  {
   "cell_type": "code",
   "execution_count": 2,
   "id": "160c3a0b",
   "metadata": {},
   "outputs": [],
   "source": [
    "# borrowed from \n",
    "\n",
    "import torch\n",
    "\n",
    "import torch\n",
    "import torch.nn as nn\n",
    "\n",
    "def disable_running_stats(model):\n",
    "    def _disable(module):\n",
    "        if isinstance(module, nn.BatchNorm2d):\n",
    "            module.backup_momentum = module.momentum\n",
    "            module.momentum = 0\n",
    "\n",
    "    model.apply(_disable)\n",
    "\n",
    "def enable_running_stats(model):\n",
    "    def _enable(module):\n",
    "        if isinstance(module, nn.BatchNorm2d) and hasattr(module, \"backup_momentum\"):\n",
    "            module.momentum = module.backup_momentum\n",
    "\n",
    "    model.apply(_enable)\n",
    "\n",
    "class SAM(torch.optim.Optimizer):\n",
    "    def __init__(self, params, base_optimizer, rho=0.05, **kwargs):\n",
    "        assert rho >= 0.0, f\"Invalid rho, should be non-negative: {rho}\"\n",
    "\n",
    "        defaults = dict(rho=rho, **kwargs)\n",
    "        super(SAM, self).__init__(params, defaults)\n",
    "\n",
    "        self.base_optimizer = base_optimizer(self.param_groups, **kwargs)\n",
    "        self.param_groups = self.base_optimizer.param_groups\n",
    "\n",
    "    @torch.no_grad()\n",
    "    def first_step(self, zero_grad=False):\n",
    "        grad_norm = self._grad_norm()\n",
    "        for group in self.param_groups:\n",
    "            scale = group[\"rho\"] / (grad_norm + 1e-12)\n",
    "\n",
    "            for p in group[\"params\"]:\n",
    "                if p.grad is None: continue\n",
    "                e_w = p.grad * scale.to(p)\n",
    "                p.add_(e_w)  # climb to the local maximum \"w + e(w)\"\n",
    "                self.state[p][\"e_w\"] = e_w\n",
    "\n",
    "        if zero_grad: self.zero_grad()\n",
    "\n",
    "    @torch.no_grad()\n",
    "    def second_step(self, zero_grad=False):\n",
    "        for group in self.param_groups:\n",
    "            for p in group[\"params\"]:\n",
    "                if p.grad is None: continue\n",
    "                p.sub_(self.state[p][\"e_w\"])  # get back to \"w\" from \"w + e(w)\"\n",
    "\n",
    "        self.base_optimizer.step()  # do the actual \"sharpness-aware\" update\n",
    "\n",
    "        if zero_grad: self.zero_grad()\n",
    "\n",
    "    @torch.no_grad()\n",
    "    def step(self, closure=None):\n",
    "        assert closure is not None, \"Sharpness Aware Minimization requires closure, but it was not provided\"\n",
    "        closure = torch.enable_grad()(closure)  # the closure should do a full forward-backward pass\n",
    "\n",
    "        self.first_step(zero_grad=True)\n",
    "        closure()\n",
    "        self.second_step()\n",
    "\n",
    "    def _grad_norm(self):\n",
    "        shared_device = self.param_groups[0][\"params\"][0].device  # put everything on the same device, in case of model parallelism\n",
    "        norm = torch.norm(\n",
    "                    torch.stack([\n",
    "                        p.grad.norm(p=2).to(shared_device)\n",
    "                        for group in self.param_groups for p in group[\"params\"]\n",
    "                        if p.grad is not None\n",
    "                    ]),\n",
    "                    p=2\n",
    "               )\n",
    "        return norm"
   ]
  },
  {
   "cell_type": "code",
   "execution_count": 3,
   "id": "966a2572",
   "metadata": {},
   "outputs": [],
   "source": [
    "import torch\n",
    "from torch import nn\n",
    "import torchvision\n",
    "from torch.nn import functional as F\n",
    "from efficientnet_pytorch import EfficientNet\n",
    "\n",
    "\n",
    "\n",
    "class Detector(nn.Module):\n",
    "\n",
    "    def __init__(self):\n",
    "        super(Detector, self).__init__()\n",
    "        self.net=EfficientNet.from_pretrained(\"efficientnet-b4\",advprop=True,num_classes=2)\n",
    "        self.cel=nn.CrossEntropyLoss()\n",
    "        self.optimizer=SAM(self.parameters(),torch.optim.SGD,lr=0.001, momentum=0.9)\n",
    "        \n",
    "        \n",
    "\n",
    "    def forward(self,x):\n",
    "        x=self.net(x)\n",
    "        return x\n",
    "    \n",
    "    def training_step(self,x,target):\n",
    "        for i in range(2):\n",
    "            pred_cls=self(x)\n",
    "            if i==0:\n",
    "                pred_first=pred_cls\n",
    "            loss_cls=self.cel(pred_cls,target)\n",
    "            loss=loss_cls\n",
    "            self.optimizer.zero_grad()\n",
    "            loss.backward()\n",
    "            if i==0:\n",
    "                self.optimizer.first_step(zero_grad=True)\n",
    "            else:\n",
    "                self.optimizer.second_step(zero_grad=True)\n",
    "        \n",
    "        return pred_first\n",
    "    "
   ]
  },
  {
   "cell_type": "code",
   "execution_count": 18,
   "id": "573300df",
   "metadata": {},
   "outputs": [],
   "source": [
    "import os\n",
    "import torch\n",
    "import torch.nn as nn\n",
    "import torch.nn.functional as F\n",
    "import torch.optim as optim\n",
    "from torchvision import datasets,transforms,models,utils\n",
    "import numpy as np\n",
    "import matplotlib.pyplot as plt\n",
    "import os\n",
    "import pandas as pd\n",
    "from PIL import Image\n",
    "import sys\n",
    "import random\n",
    "import shutil\n",
    "import argparse\n",
    "from datetime import datetime\n",
    "from tqdm import tqdm\n",
    "from retinaface.pre_trained_models import get_model\n",
    "import warnings\n",
    "warnings.filterwarnings('ignore')\n",
    "\n",
    "def main(args):\n",
    "    device ='cuda'\n",
    "    model=Detector()\n",
    "    model=model.to(device)\n",
    "    cnn_sd=torch.load(args.weight_name)[\"model\"]\n",
    "    model.load_state_dict(cnn_sd)\n",
    "    model.eval()\n",
    "\n",
    "    # Không cần face_detector nữa vì video đã cắt sẵn\n",
    "    face_list,idx_list=extract_frames(args.input_video,args.n_frames)\n",
    "\n",
    "    pred_list = []\n",
    "    cal_pred_list = []\n",
    "    \n",
    "    # Xử lý từng frame và hiển thị predict\n",
    "    print(len(face_list))\n",
    "    with torch.no_grad():\n",
    "        for i, frame in enumerate(face_list):\n",
    "            # Chuyển frame thành tensor và normalize\n",
    "            img = torch.tensor(frame).unsqueeze(0).to(device).float() / 255\n",
    "            pred = model(img).softmax(1)[0, 1]  # Lấy xác suất fake\n",
    "            \n",
    "            frame_idx = idx_list[i]\n",
    "            pred_value = pred.item()\n",
    "            pred_list.append({'frame': frame_idx, 'pred': pred_value})\n",
    "            cal_pred_list.append(pred_value)\n",
    "            \n",
    "    \n",
    "    print(pred_list)\n",
    "    print(len(pred_list))\n",
    "    # Tính trung bình các prediction\n",
    "    overall_pred = np.mean(cal_pred_list)\n",
    "    print(f'\\nOverall fakeness: {overall_pred:.4f}')"
   ]
  },
  {
   "cell_type": "code",
   "execution_count": 19,
   "id": "e42b9389",
   "metadata": {},
   "outputs": [
    {
     "name": "stdout",
     "output_type": "stream",
     "text": [
      "Loaded pretrained weights for efficientnet-b4\n",
      "32\n",
      "32\n",
      "[{'frame': 0, 'pred': 0.0437898151576519}, {'frame': 6, 'pred': 0.04362490400671959}, {'frame': 12, 'pred': 0.06889503449201584}, {'frame': 18, 'pred': 0.05441153049468994}, {'frame': 24, 'pred': 0.005803137551993132}, {'frame': 30, 'pred': 0.08214849978685379}, {'frame': 36, 'pred': 0.06157619506120682}, {'frame': 42, 'pred': 0.04170526564121246}, {'frame': 49, 'pred': 0.14909601211547852}, {'frame': 55, 'pred': 0.07662352174520493}, {'frame': 61, 'pred': 0.020158179104328156}, {'frame': 67, 'pred': 0.040810681879520416}, {'frame': 73, 'pred': 0.023206131532788277}, {'frame': 79, 'pred': 0.04398370906710625}, {'frame': 85, 'pred': 0.027518898248672485}, {'frame': 91, 'pred': 0.0724581778049469}, {'frame': 98, 'pred': 0.16251666843891144}, {'frame': 104, 'pred': 0.09977283328771591}, {'frame': 110, 'pred': 0.020251188427209854}, {'frame': 116, 'pred': 0.1234087347984314}, {'frame': 122, 'pred': 0.21344514191150665}, {'frame': 128, 'pred': 0.08239465951919556}, {'frame': 134, 'pred': 0.03310149535536766}, {'frame': 140, 'pred': 0.2824002504348755}, {'frame': 147, 'pred': 0.1960276961326599}, {'frame': 153, 'pred': 0.030678873881697655}, {'frame': 159, 'pred': 0.0420481413602829}, {'frame': 165, 'pred': 0.03774299845099449}, {'frame': 171, 'pred': 0.07507369667291641}, {'frame': 177, 'pred': 0.055765051394701004}, {'frame': 183, 'pred': 0.07326097041368484}, {'frame': 190, 'pred': 0.04699468985199928}]\n",
      "32\n",
      "\n",
      "Overall fakeness: 0.0760\n",
      "[{'frame': 0, 'pred': 0.0437898151576519}, {'frame': 6, 'pred': 0.04362490400671959}, {'frame': 12, 'pred': 0.06889503449201584}, {'frame': 18, 'pred': 0.05441153049468994}, {'frame': 24, 'pred': 0.005803137551993132}, {'frame': 30, 'pred': 0.08214849978685379}, {'frame': 36, 'pred': 0.06157619506120682}, {'frame': 42, 'pred': 0.04170526564121246}, {'frame': 49, 'pred': 0.14909601211547852}, {'frame': 55, 'pred': 0.07662352174520493}, {'frame': 61, 'pred': 0.020158179104328156}, {'frame': 67, 'pred': 0.040810681879520416}, {'frame': 73, 'pred': 0.023206131532788277}, {'frame': 79, 'pred': 0.04398370906710625}, {'frame': 85, 'pred': 0.027518898248672485}, {'frame': 91, 'pred': 0.0724581778049469}, {'frame': 98, 'pred': 0.16251666843891144}, {'frame': 104, 'pred': 0.09977283328771591}, {'frame': 110, 'pred': 0.020251188427209854}, {'frame': 116, 'pred': 0.1234087347984314}, {'frame': 122, 'pred': 0.21344514191150665}, {'frame': 128, 'pred': 0.08239465951919556}, {'frame': 134, 'pred': 0.03310149535536766}, {'frame': 140, 'pred': 0.2824002504348755}, {'frame': 147, 'pred': 0.1960276961326599}, {'frame': 153, 'pred': 0.030678873881697655}, {'frame': 159, 'pred': 0.0420481413602829}, {'frame': 165, 'pred': 0.03774299845099449}, {'frame': 171, 'pred': 0.07507369667291641}, {'frame': 177, 'pred': 0.055765051394701004}, {'frame': 183, 'pred': 0.07326097041368484}, {'frame': 190, 'pred': 0.04699468985199928}]\n",
      "32\n",
      "\n",
      "Overall fakeness: 0.0760\n"
     ]
    }
   ],
   "source": [
    "class Args:\n",
    "    def __init__(self, input_video, n_frames, weight_name):\n",
    "        self.input_video = input_video\n",
    "        self.n_frames = n_frames\n",
    "        self.weight_name = weight_name\n",
    "\n",
    "args = Args('SelfBlendedImages/LAV_DF_Small/LAV_DF_Small/000014.mp4', 32, '/mnt/e/FPTUNI/doantotnghiep/Comparing Models/SelfBlendedImages/weights/FFc23.tar')\n",
    "main(args)"
   ]
  },
  {
   "cell_type": "code",
   "execution_count": 6,
   "id": "f1a08f4c",
   "metadata": {},
   "outputs": [
    {
     "name": "stdout",
     "output_type": "stream",
     "text": [
      "Sat Aug 30 18:49:19 2025       \n",
      "+-----------------------------------------------------------------------------------------+\n",
      "| NVIDIA-SMI 580.76.07              Driver Version: 581.08         CUDA Version: 13.0     |\n",
      "+-----------------------------------------+------------------------+----------------------+\n",
      "| GPU  Name                 Persistence-M | Bus-Id          Disp.A | Volatile Uncorr. ECC |\n",
      "| Fan  Temp   Perf          Pwr:Usage/Cap |           Memory-Usage | GPU-Util  Compute M. |\n",
      "|                                         |                        |               MIG M. |\n",
      "|=========================================+========================+======================|\n",
      "|   0  NVIDIA GeForce RTX 3050 ...    On  |   00000000:01:00.0  On |                  N/A |\n",
      "| N/A   71C    P0             38W /   60W |     669MiB /   4096MiB |     36%      Default |\n",
      "|                                         |                        |                  N/A |\n",
      "+-----------------------------------------+------------------------+----------------------+\n",
      "\n",
      "+-----------------------------------------------------------------------------------------+\n",
      "| Processes:                                                                              |\n",
      "|  GPU   GI   CI              PID   Type   Process name                        GPU Memory |\n",
      "|        ID   ID                                                               Usage      |\n",
      "|=========================================================================================|\n",
      "|    0   N/A  N/A           31754      C   /python3.12                           N/A      |\n",
      "+-----------------------------------------------------------------------------------------+\n"
     ]
    }
   ],
   "source": [
    "!nvidia-smi"
   ]
  },
  {
   "cell_type": "code",
   "execution_count": 20,
   "id": "91d61c04",
   "metadata": {},
   "outputs": [
    {
     "name": "stdout",
     "output_type": "stream",
     "text": [
      "Bắt đầu xử lý tất cả video...\n",
      "Loaded pretrained weights for efficientnet-b4\n",
      "Loaded pretrained weights for efficientnet-b4\n",
      "Tìm thấy 108 video files\n",
      "Tìm thấy 108 video files\n"
     ]
    },
    {
     "name": "stderr",
     "output_type": "stream",
     "text": [
      "Processing videos:   1%|          | 1/108 [00:11<20:35, 11.54s/it]"
     ]
    },
    {
     "name": "stdout",
     "output_type": "stream",
     "text": [
      "✓ 000006.mp4: 339 frames, fakeness = 0.0933\n"
     ]
    },
    {
     "name": "stderr",
     "output_type": "stream",
     "text": [
      "Processing videos:   2%|▏         | 2/108 [00:19<16:30,  9.35s/it]"
     ]
    },
    {
     "name": "stdout",
     "output_type": "stream",
     "text": [
      "✓ 000008.mp4: 340 frames, fakeness = 0.0832\n"
     ]
    },
    {
     "name": "stderr",
     "output_type": "stream",
     "text": [
      "Processing videos:   3%|▎         | 3/108 [00:27<15:43,  8.99s/it]"
     ]
    },
    {
     "name": "stdout",
     "output_type": "stream",
     "text": [
      "✓ 000009.mp4: 357 frames, fakeness = 0.0660\n"
     ]
    },
    {
     "name": "stderr",
     "output_type": "stream",
     "text": [
      "Processing videos:   4%|▎         | 4/108 [00:39<17:27, 10.07s/it]"
     ]
    },
    {
     "name": "stdout",
     "output_type": "stream",
     "text": [
      "✓ 000010.mp4: 348 frames, fakeness = 0.1033\n"
     ]
    },
    {
     "name": "stderr",
     "output_type": "stream",
     "text": [
      "Processing videos:   5%|▍         | 5/108 [00:48<16:28,  9.60s/it]"
     ]
    },
    {
     "name": "stdout",
     "output_type": "stream",
     "text": [
      "✓ 000011.mp4: 355 frames, fakeness = 0.0771\n"
     ]
    },
    {
     "name": "stderr",
     "output_type": "stream",
     "text": [
      "Processing videos:   6%|▌         | 6/108 [00:53<13:54,  8.18s/it]"
     ]
    },
    {
     "name": "stdout",
     "output_type": "stream",
     "text": [
      "✓ 000012.mp4: 189 frames, fakeness = 0.2148\n"
     ]
    },
    {
     "name": "stderr",
     "output_type": "stream",
     "text": [
      "Processing videos:   6%|▋         | 7/108 [00:59<12:09,  7.22s/it]"
     ]
    },
    {
     "name": "stdout",
     "output_type": "stream",
     "text": [
      "✓ 000013.mp4: 202 frames, fakeness = 0.0967\n"
     ]
    },
    {
     "name": "stderr",
     "output_type": "stream",
     "text": [
      "Processing videos:   7%|▋         | 8/108 [01:04<10:56,  6.56s/it]"
     ]
    },
    {
     "name": "stdout",
     "output_type": "stream",
     "text": [
      "✓ 000014.mp4: 191 frames, fakeness = 0.0810\n"
     ]
    },
    {
     "name": "stderr",
     "output_type": "stream",
     "text": [
      "Processing videos:   8%|▊         | 9/108 [01:09<10:18,  6.25s/it]"
     ]
    },
    {
     "name": "stdout",
     "output_type": "stream",
     "text": [
      "✓ 000015.mp4: 200 frames, fakeness = 0.1180\n"
     ]
    },
    {
     "name": "stderr",
     "output_type": "stream",
     "text": [
      "Processing videos:   9%|▉         | 10/108 [01:17<11:01,  6.75s/it]"
     ]
    },
    {
     "name": "stdout",
     "output_type": "stream",
     "text": [
      "✓ 000016.mp4: 164 frames, fakeness = 0.2332\n"
     ]
    },
    {
     "name": "stderr",
     "output_type": "stream",
     "text": [
      "Processing videos:  10%|█         | 11/108 [01:22<10:09,  6.28s/it]"
     ]
    },
    {
     "name": "stdout",
     "output_type": "stream",
     "text": [
      "✓ 000017.mp4: 186 frames, fakeness = 0.1007\n"
     ]
    },
    {
     "name": "stderr",
     "output_type": "stream",
     "text": [
      "Processing videos:  11%|█         | 12/108 [01:27<09:21,  5.85s/it]"
     ]
    },
    {
     "name": "stdout",
     "output_type": "stream",
     "text": [
      "✓ 000018.mp4: 167 frames, fakeness = 0.1078\n"
     ]
    },
    {
     "name": "stderr",
     "output_type": "stream",
     "text": [
      "Processing videos:  12%|█▏        | 13/108 [01:41<12:56,  8.17s/it]"
     ]
    },
    {
     "name": "stdout",
     "output_type": "stream",
     "text": [
      "✓ 000400.mp4: 457 frames, fakeness = 0.6990\n"
     ]
    },
    {
     "name": "stderr",
     "output_type": "stream",
     "text": [
      "Processing videos:  13%|█▎        | 14/108 [01:58<17:07, 10.93s/it]"
     ]
    },
    {
     "name": "stdout",
     "output_type": "stream",
     "text": [
      "✓ 000401.mp4: 464 frames, fakeness = 0.6428\n"
     ]
    },
    {
     "name": "stderr",
     "output_type": "stream",
     "text": [
      "Processing videos:  14%|█▍        | 15/108 [02:12<18:33, 11.97s/it]"
     ]
    },
    {
     "name": "stdout",
     "output_type": "stream",
     "text": [
      "✓ 000402.mp4: 457 frames, fakeness = 0.6820\n"
     ]
    },
    {
     "name": "stderr",
     "output_type": "stream",
     "text": [
      "Processing videos:  15%|█▍        | 16/108 [02:31<21:24, 13.96s/it]"
     ]
    },
    {
     "name": "stdout",
     "output_type": "stream",
     "text": [
      "✓ 000403.mp4: 464 frames, fakeness = 0.7209\n"
     ]
    },
    {
     "name": "stderr",
     "output_type": "stream",
     "text": [
      "Processing videos:  16%|█▌        | 17/108 [02:36<17:02, 11.23s/it]"
     ]
    },
    {
     "name": "stdout",
     "output_type": "stream",
     "text": [
      "✓ 000404.mp4: 149 frames, fakeness = 0.7795\n"
     ]
    },
    {
     "name": "stderr",
     "output_type": "stream",
     "text": [
      "Processing videos:  17%|█▋        | 18/108 [02:41<14:16,  9.52s/it]"
     ]
    },
    {
     "name": "stdout",
     "output_type": "stream",
     "text": [
      "✓ 000405.mp4: 163 frames, fakeness = 0.6201\n"
     ]
    },
    {
     "name": "stderr",
     "output_type": "stream",
     "text": [
      "Processing videos:  18%|█▊        | 19/108 [02:47<12:17,  8.29s/it]"
     ]
    },
    {
     "name": "stdout",
     "output_type": "stream",
     "text": [
      "✓ 000406.mp4: 151 frames, fakeness = 0.5804\n"
     ]
    },
    {
     "name": "stderr",
     "output_type": "stream",
     "text": [
      "Processing videos:  19%|█▊        | 20/108 [02:53<11:12,  7.65s/it]"
     ]
    },
    {
     "name": "stdout",
     "output_type": "stream",
     "text": [
      "✓ 000407.mp4: 163 frames, fakeness = 0.5830\n"
     ]
    },
    {
     "name": "stderr",
     "output_type": "stream",
     "text": [
      "Processing videos:  19%|█▉        | 21/108 [03:04<12:29,  8.62s/it]"
     ]
    },
    {
     "name": "stdout",
     "output_type": "stream",
     "text": [
      "✓ 000408.mp4: 215 frames, fakeness = 0.7110\n"
     ]
    },
    {
     "name": "stderr",
     "output_type": "stream",
     "text": [
      "Processing videos:  20%|██        | 22/108 [03:12<12:04,  8.43s/it]"
     ]
    },
    {
     "name": "stdout",
     "output_type": "stream",
     "text": [
      "✓ 000409.mp4: 222 frames, fakeness = 0.6961\n"
     ]
    },
    {
     "name": "stderr",
     "output_type": "stream",
     "text": [
      "Processing videos:  21%|██▏       | 23/108 [03:20<11:44,  8.29s/it]"
     ]
    },
    {
     "name": "stdout",
     "output_type": "stream",
     "text": [
      "✓ 000410.mp4: 217 frames, fakeness = 0.7229\n"
     ]
    },
    {
     "name": "stderr",
     "output_type": "stream",
     "text": [
      "Processing videos:  22%|██▏       | 24/108 [03:28<11:41,  8.35s/it]"
     ]
    },
    {
     "name": "stdout",
     "output_type": "stream",
     "text": [
      "✓ 000411.mp4: 221 frames, fakeness = 0.7123\n"
     ]
    },
    {
     "name": "stderr",
     "output_type": "stream",
     "text": [
      "Processing videos:  23%|██▎       | 25/108 [03:33<10:04,  7.28s/it]"
     ]
    },
    {
     "name": "stdout",
     "output_type": "stream",
     "text": [
      "✓ 000469.mp4: 125 frames, fakeness = 0.6457\n"
     ]
    },
    {
     "name": "stderr",
     "output_type": "stream",
     "text": [
      "Processing videos:  24%|██▍       | 26/108 [03:42<10:37,  7.78s/it]"
     ]
    },
    {
     "name": "stdout",
     "output_type": "stream",
     "text": [
      "✓ 000470.mp4: 144 frames, fakeness = 0.3475\n"
     ]
    },
    {
     "name": "stderr",
     "output_type": "stream",
     "text": [
      "Processing videos:  25%|██▌       | 27/108 [03:47<09:22,  6.94s/it]"
     ]
    },
    {
     "name": "stdout",
     "output_type": "stream",
     "text": [
      "✓ 000471.mp4: 127 frames, fakeness = 0.3106\n"
     ]
    },
    {
     "name": "stderr",
     "output_type": "stream",
     "text": [
      "Processing videos:  26%|██▌       | 28/108 [03:53<08:40,  6.51s/it]"
     ]
    },
    {
     "name": "stdout",
     "output_type": "stream",
     "text": [
      "✓ 000472.mp4: 147 frames, fakeness = 0.3188\n"
     ]
    },
    {
     "name": "stderr",
     "output_type": "stream",
     "text": [
      "Processing videos:  27%|██▋       | 29/108 [03:57<07:41,  5.85s/it]"
     ]
    },
    {
     "name": "stdout",
     "output_type": "stream",
     "text": [
      "✓ 000473.mp4: 102 frames, fakeness = 0.4412\n"
     ]
    },
    {
     "name": "stderr",
     "output_type": "stream",
     "text": [
      "Processing videos:  28%|██▊       | 30/108 [04:02<07:17,  5.61s/it]"
     ]
    },
    {
     "name": "stdout",
     "output_type": "stream",
     "text": [
      "✓ 000474.mp4: 123 frames, fakeness = 0.3362\n"
     ]
    },
    {
     "name": "stderr",
     "output_type": "stream",
     "text": [
      "Processing videos:  29%|██▊       | 31/108 [04:06<06:38,  5.17s/it]"
     ]
    },
    {
     "name": "stdout",
     "output_type": "stream",
     "text": [
      "✓ 000475.mp4: 104 frames, fakeness = 0.3565\n"
     ]
    },
    {
     "name": "stderr",
     "output_type": "stream",
     "text": [
      "Processing videos:  30%|██▉       | 32/108 [04:14<07:45,  6.13s/it]"
     ]
    },
    {
     "name": "stdout",
     "output_type": "stream",
     "text": [
      "✓ 000476.mp4: 127 frames, fakeness = 0.2462\n"
     ]
    },
    {
     "name": "stderr",
     "output_type": "stream",
     "text": [
      "Processing videos:  31%|███       | 33/108 [04:20<07:26,  5.95s/it]"
     ]
    },
    {
     "name": "stdout",
     "output_type": "stream",
     "text": [
      "✓ 000477.mp4: 140 frames, fakeness = 0.5820\n"
     ]
    },
    {
     "name": "stderr",
     "output_type": "stream",
     "text": [
      "Processing videos:  31%|███▏      | 34/108 [04:26<07:17,  5.92s/it]"
     ]
    },
    {
     "name": "stdout",
     "output_type": "stream",
     "text": [
      "✓ 000478.mp4: 159 frames, fakeness = 0.2925\n"
     ]
    },
    {
     "name": "stderr",
     "output_type": "stream",
     "text": [
      "Processing videos:  32%|███▏      | 35/108 [04:31<07:01,  5.77s/it]"
     ]
    },
    {
     "name": "stdout",
     "output_type": "stream",
     "text": [
      "✓ 000479.mp4: 142 frames, fakeness = 0.3371\n"
     ]
    },
    {
     "name": "stderr",
     "output_type": "stream",
     "text": [
      "Processing videos:  33%|███▎      | 36/108 [04:38<07:11,  5.99s/it]"
     ]
    },
    {
     "name": "stdout",
     "output_type": "stream",
     "text": [
      "✓ 000480.mp4: 157 frames, fakeness = 0.2993\n"
     ]
    },
    {
     "name": "stderr",
     "output_type": "stream",
     "text": [
      "Processing videos:  34%|███▍      | 37/108 [04:43<06:58,  5.89s/it]"
     ]
    },
    {
     "name": "stdout",
     "output_type": "stream",
     "text": [
      "✓ 000481.mp4: 137 frames, fakeness = 0.5871\n"
     ]
    },
    {
     "name": "stderr",
     "output_type": "stream",
     "text": [
      "Processing videos:  35%|███▌      | 38/108 [04:53<08:04,  6.92s/it]"
     ]
    },
    {
     "name": "stdout",
     "output_type": "stream",
     "text": [
      "✓ 000482.mp4: 160 frames, fakeness = 0.2904\n"
     ]
    },
    {
     "name": "stderr",
     "output_type": "stream",
     "text": [
      "Processing videos:  36%|███▌      | 39/108 [04:58<07:32,  6.56s/it]"
     ]
    },
    {
     "name": "stdout",
     "output_type": "stream",
     "text": [
      "✓ 000483.mp4: 140 frames, fakeness = 0.4010\n"
     ]
    },
    {
     "name": "stderr",
     "output_type": "stream",
     "text": [
      "Processing videos:  37%|███▋      | 40/108 [05:05<07:23,  6.52s/it]"
     ]
    },
    {
     "name": "stdout",
     "output_type": "stream",
     "text": [
      "✓ 000484.mp4: 157 frames, fakeness = 0.2792\n"
     ]
    },
    {
     "name": "stderr",
     "output_type": "stream",
     "text": [
      "Processing videos:  38%|███▊      | 41/108 [05:09<06:31,  5.84s/it]"
     ]
    },
    {
     "name": "stdout",
     "output_type": "stream",
     "text": [
      "✓ 000485.mp4: 106 frames, fakeness = 0.4031\n"
     ]
    },
    {
     "name": "stderr",
     "output_type": "stream",
     "text": [
      "Processing videos:  39%|███▉      | 42/108 [05:13<05:56,  5.41s/it]"
     ]
    },
    {
     "name": "stdout",
     "output_type": "stream",
     "text": [
      "✓ 000486.mp4: 111 frames, fakeness = 0.4938\n"
     ]
    },
    {
     "name": "stderr",
     "output_type": "stream",
     "text": [
      "Processing videos:  40%|███▉      | 43/108 [05:18<05:26,  5.03s/it]"
     ]
    },
    {
     "name": "stdout",
     "output_type": "stream",
     "text": [
      "✓ 000487.mp4: 107 frames, fakeness = 0.2332\n"
     ]
    },
    {
     "name": "stderr",
     "output_type": "stream",
     "text": [
      "Processing videos:  41%|████      | 44/108 [05:26<06:17,  5.89s/it]"
     ]
    },
    {
     "name": "stdout",
     "output_type": "stream",
     "text": [
      "✓ 000488.mp4: 111 frames, fakeness = 0.2888\n"
     ]
    },
    {
     "name": "stderr",
     "output_type": "stream",
     "text": [
      "Processing videos:  42%|████▏     | 45/108 [05:42<09:35,  9.13s/it]"
     ]
    },
    {
     "name": "stdout",
     "output_type": "stream",
     "text": [
      "✓ 000489.mp4: 401 frames, fakeness = 0.4059\n"
     ]
    },
    {
     "name": "stderr",
     "output_type": "stream",
     "text": [
      "Processing videos:  43%|████▎     | 46/108 [06:02<12:46, 12.37s/it]"
     ]
    },
    {
     "name": "stdout",
     "output_type": "stream",
     "text": [
      "✓ 000490.mp4: 426 frames, fakeness = 0.3756\n"
     ]
    },
    {
     "name": "stderr",
     "output_type": "stream",
     "text": [
      "Processing videos:  44%|████▎     | 47/108 [06:19<14:02, 13.81s/it]"
     ]
    },
    {
     "name": "stdout",
     "output_type": "stream",
     "text": [
      "✓ 000491.mp4: 405 frames, fakeness = 0.3808\n"
     ]
    },
    {
     "name": "stderr",
     "output_type": "stream",
     "text": [
      "Processing videos:  44%|████▍     | 48/108 [06:40<15:56, 15.94s/it]"
     ]
    },
    {
     "name": "stdout",
     "output_type": "stream",
     "text": [
      "✓ 000492.mp4: 425 frames, fakeness = 0.3767\n"
     ]
    },
    {
     "name": "stderr",
     "output_type": "stream",
     "text": [
      "Processing videos:  45%|████▌     | 49/108 [06:46<12:48, 13.02s/it]"
     ]
    },
    {
     "name": "stdout",
     "output_type": "stream",
     "text": [
      "✓ 113695.mp4: 149 frames, fakeness = 0.1605\n"
     ]
    },
    {
     "name": "stderr",
     "output_type": "stream",
     "text": [
      "Processing videos:  46%|████▋     | 50/108 [06:59<12:29, 12.92s/it]"
     ]
    },
    {
     "name": "stdout",
     "output_type": "stream",
     "text": [
      "✓ 113696.mp4: 308 frames, fakeness = 0.0580\n"
     ]
    },
    {
     "name": "stderr",
     "output_type": "stream",
     "text": [
      "Processing videos:  47%|████▋     | 51/108 [07:15<13:12, 13.90s/it]"
     ]
    },
    {
     "name": "stdout",
     "output_type": "stream",
     "text": [
      "✓ 113697.mp4: 317 frames, fakeness = 0.0834\n"
     ]
    },
    {
     "name": "stderr",
     "output_type": "stream",
     "text": [
      "Processing videos:  48%|████▊     | 52/108 [07:29<12:50, 13.76s/it]"
     ]
    },
    {
     "name": "stdout",
     "output_type": "stream",
     "text": [
      "✓ 113698.mp4: 311 frames, fakeness = 0.1025\n"
     ]
    },
    {
     "name": "stderr",
     "output_type": "stream",
     "text": [
      "Processing videos:  49%|████▉     | 53/108 [07:45<13:17, 14.50s/it]"
     ]
    },
    {
     "name": "stdout",
     "output_type": "stream",
     "text": [
      "✓ 113699.mp4: 317 frames, fakeness = 0.1045\n"
     ]
    },
    {
     "name": "stderr",
     "output_type": "stream",
     "text": [
      "Processing videos:  50%|█████     | 54/108 [07:55<11:49, 13.14s/it]"
     ]
    },
    {
     "name": "stdout",
     "output_type": "stream",
     "text": [
      "✓ 113700.mp4: 240 frames, fakeness = 0.0574\n"
     ]
    },
    {
     "name": "stderr",
     "output_type": "stream",
     "text": [
      "Processing videos:  51%|█████     | 55/108 [08:05<10:54, 12.34s/it]"
     ]
    },
    {
     "name": "stdout",
     "output_type": "stream",
     "text": [
      "✓ 113701.mp4: 249 frames, fakeness = 0.1128\n"
     ]
    },
    {
     "name": "stderr",
     "output_type": "stream",
     "text": [
      "Processing videos:  52%|█████▏    | 56/108 [08:16<10:08, 11.70s/it]"
     ]
    },
    {
     "name": "stdout",
     "output_type": "stream",
     "text": [
      "✓ 113702.mp4: 242 frames, fakeness = 0.1119\n"
     ]
    },
    {
     "name": "stderr",
     "output_type": "stream",
     "text": [
      "Processing videos:  53%|█████▎    | 57/108 [08:30<10:37, 12.51s/it]"
     ]
    },
    {
     "name": "stdout",
     "output_type": "stream",
     "text": [
      "✓ 113703.mp4: 247 frames, fakeness = 0.0985\n"
     ]
    },
    {
     "name": "stderr",
     "output_type": "stream",
     "text": [
      "Processing videos:  54%|█████▎    | 58/108 [08:41<10:04, 12.10s/it]"
     ]
    },
    {
     "name": "stdout",
     "output_type": "stream",
     "text": [
      "✓ 113704.mp4: 253 frames, fakeness = 0.0504\n"
     ]
    },
    {
     "name": "stderr",
     "output_type": "stream",
     "text": [
      "Processing videos:  55%|█████▍    | 59/108 [08:56<10:33, 12.92s/it]"
     ]
    },
    {
     "name": "stdout",
     "output_type": "stream",
     "text": [
      "✓ 113705.mp4: 273 frames, fakeness = 0.1061\n"
     ]
    },
    {
     "name": "stderr",
     "output_type": "stream",
     "text": [
      "Processing videos:  56%|█████▌    | 60/108 [09:07<09:51, 12.33s/it]"
     ]
    },
    {
     "name": "stdout",
     "output_type": "stream",
     "text": [
      "✓ 113706.mp4: 257 frames, fakeness = 0.0750\n"
     ]
    },
    {
     "name": "stderr",
     "output_type": "stream",
     "text": [
      "Processing videos:  56%|█████▋    | 61/108 [09:27<11:23, 14.55s/it]"
     ]
    },
    {
     "name": "stdout",
     "output_type": "stream",
     "text": [
      "✓ 114583.mp4: 462 frames, fakeness = 0.2695\n"
     ]
    },
    {
     "name": "stderr",
     "output_type": "stream",
     "text": [
      "Processing videos:  57%|█████▋    | 62/108 [09:51<13:19, 17.38s/it]"
     ]
    },
    {
     "name": "stdout",
     "output_type": "stream",
     "text": [
      "✓ 114584.mp4: 484 frames, fakeness = 0.1930\n"
     ]
    },
    {
     "name": "stderr",
     "output_type": "stream",
     "text": [
      "Processing videos:  58%|█████▊    | 63/108 [10:14<14:21, 19.15s/it]"
     ]
    },
    {
     "name": "stdout",
     "output_type": "stream",
     "text": [
      "✓ 114585.mp4: 466 frames, fakeness = 0.1823\n"
     ]
    },
    {
     "name": "stderr",
     "output_type": "stream",
     "text": [
      "Processing videos:  59%|█████▉    | 64/108 [10:35<14:23, 19.62s/it]"
     ]
    },
    {
     "name": "stdout",
     "output_type": "stream",
     "text": [
      "✓ 114586.mp4: 484 frames, fakeness = 0.2064\n"
     ]
    },
    {
     "name": "stderr",
     "output_type": "stream",
     "text": [
      "Processing videos:  60%|██████    | 65/108 [10:58<14:46, 20.62s/it]"
     ]
    },
    {
     "name": "stdout",
     "output_type": "stream",
     "text": [
      "✓ 114587.mp4: 476 frames, fakeness = 0.2095\n"
     ]
    },
    {
     "name": "stderr",
     "output_type": "stream",
     "text": [
      "Processing videos:  61%|██████    | 66/108 [11:20<14:51, 21.22s/it]"
     ]
    },
    {
     "name": "stdout",
     "output_type": "stream",
     "text": [
      "✓ 114588.mp4: 464 frames, fakeness = 0.1980\n"
     ]
    },
    {
     "name": "stderr",
     "output_type": "stream",
     "text": [
      "Processing videos:  62%|██████▏   | 67/108 [11:40<14:17, 20.92s/it]"
     ]
    },
    {
     "name": "stdout",
     "output_type": "stream",
     "text": [
      "✓ 114589.mp4: 475 frames, fakeness = 0.1896\n"
     ]
    },
    {
     "name": "stderr",
     "output_type": "stream",
     "text": [
      "Processing videos:  63%|██████▎   | 68/108 [11:56<12:53, 19.34s/it]"
     ]
    },
    {
     "name": "stdout",
     "output_type": "stream",
     "text": [
      "✓ 114590.mp4: 285 frames, fakeness = 0.3654\n"
     ]
    },
    {
     "name": "stderr",
     "output_type": "stream",
     "text": [
      "Processing videos:  64%|██████▍   | 69/108 [12:10<11:29, 17.69s/it]"
     ]
    },
    {
     "name": "stdout",
     "output_type": "stream",
     "text": [
      "✓ 114591.mp4: 323 frames, fakeness = 0.2298\n"
     ]
    },
    {
     "name": "stderr",
     "output_type": "stream",
     "text": [
      "Processing videos:  65%|██████▍   | 70/108 [12:23<10:16, 16.22s/it]"
     ]
    },
    {
     "name": "stdout",
     "output_type": "stream",
     "text": [
      "✓ 114592.mp4: 289 frames, fakeness = 0.2419\n"
     ]
    },
    {
     "name": "stderr",
     "output_type": "stream",
     "text": [
      "Processing videos:  66%|██████▌   | 71/108 [12:40<10:14, 16.61s/it]"
     ]
    },
    {
     "name": "stdout",
     "output_type": "stream",
     "text": [
      "✓ 114593.mp4: 325 frames, fakeness = 0.2240\n"
     ]
    },
    {
     "name": "stderr",
     "output_type": "stream",
     "text": [
      "Processing videos:  67%|██████▋   | 72/108 [12:54<09:23, 15.66s/it]"
     ]
    },
    {
     "name": "stdout",
     "output_type": "stream",
     "text": [
      "✓ 114594.mp4: 302 frames, fakeness = 0.2329\n"
     ]
    },
    {
     "name": "stderr",
     "output_type": "stream",
     "text": [
      "Processing videos:  68%|██████▊   | 73/108 [13:09<09:07, 15.65s/it]"
     ]
    },
    {
     "name": "stdout",
     "output_type": "stream",
     "text": [
      "✓ 114661.mp4: 268 frames, fakeness = 0.4140\n"
     ]
    },
    {
     "name": "stderr",
     "output_type": "stream",
     "text": [
      "Processing videos:  69%|██████▊   | 74/108 [13:24<08:38, 15.24s/it]"
     ]
    },
    {
     "name": "stdout",
     "output_type": "stream",
     "text": [
      "✓ 114662.mp4: 316 frames, fakeness = 0.3949\n"
     ]
    },
    {
     "name": "stderr",
     "output_type": "stream",
     "text": [
      "Processing videos:  69%|██████▉   | 75/108 [13:39<08:27, 15.39s/it]"
     ]
    },
    {
     "name": "stdout",
     "output_type": "stream",
     "text": [
      "✓ 114663.mp4: 272 frames, fakeness = 0.3698\n"
     ]
    },
    {
     "name": "stderr",
     "output_type": "stream",
     "text": [
      "Processing videos:  70%|███████   | 76/108 [13:54<08:04, 15.15s/it]"
     ]
    },
    {
     "name": "stdout",
     "output_type": "stream",
     "text": [
      "✓ 114664.mp4: 317 frames, fakeness = 0.4155\n"
     ]
    },
    {
     "name": "stderr",
     "output_type": "stream",
     "text": [
      "Processing videos:  71%|███████▏  | 77/108 [14:08<07:36, 14.71s/it]"
     ]
    },
    {
     "name": "stdout",
     "output_type": "stream",
     "text": [
      "✓ 114665.mp4: 293 frames, fakeness = 0.4037\n"
     ]
    },
    {
     "name": "stderr",
     "output_type": "stream",
     "text": [
      "Processing videos:  72%|███████▏  | 78/108 [14:23<07:25, 14.85s/it]"
     ]
    },
    {
     "name": "stdout",
     "output_type": "stream",
     "text": [
      "✓ 114666.mp4: 270 frames, fakeness = 0.3587\n"
     ]
    },
    {
     "name": "stderr",
     "output_type": "stream",
     "text": [
      "Processing videos:  73%|███████▎  | 79/108 [14:35<06:49, 14.11s/it]"
     ]
    },
    {
     "name": "stdout",
     "output_type": "stream",
     "text": [
      "✓ 114667.mp4: 293 frames, fakeness = 0.3360\n"
     ]
    },
    {
     "name": "stderr",
     "output_type": "stream",
     "text": [
      "Processing videos:  74%|███████▍  | 80/108 [14:42<05:37, 12.06s/it]"
     ]
    },
    {
     "name": "stdout",
     "output_type": "stream",
     "text": [
      "✓ 114668.mp4: 157 frames, fakeness = 0.3997\n"
     ]
    },
    {
     "name": "stderr",
     "output_type": "stream",
     "text": [
      "Processing videos:  75%|███████▌  | 81/108 [14:54<05:21, 11.91s/it]"
     ]
    },
    {
     "name": "stdout",
     "output_type": "stream",
     "text": [
      "✓ 114669.mp4: 177 frames, fakeness = 0.3614\n"
     ]
    },
    {
     "name": "stderr",
     "output_type": "stream",
     "text": [
      "Processing videos:  76%|███████▌  | 82/108 [15:02<04:36, 10.63s/it]"
     ]
    },
    {
     "name": "stdout",
     "output_type": "stream",
     "text": [
      "✓ 114670.mp4: 160 frames, fakeness = 0.3397\n"
     ]
    },
    {
     "name": "stderr",
     "output_type": "stream",
     "text": [
      "Processing videos:  77%|███████▋  | 83/108 [15:10<04:10, 10.01s/it]"
     ]
    },
    {
     "name": "stdout",
     "output_type": "stream",
     "text": [
      "✓ 114671.mp4: 176 frames, fakeness = 0.3677\n"
     ]
    },
    {
     "name": "stderr",
     "output_type": "stream",
     "text": [
      "Processing videos:  78%|███████▊  | 84/108 [15:26<04:39, 11.65s/it]"
     ]
    },
    {
     "name": "stdout",
     "output_type": "stream",
     "text": [
      "✓ 114672.mp4: 258 frames, fakeness = 0.3748\n"
     ]
    },
    {
     "name": "stderr",
     "output_type": "stream",
     "text": [
      "Processing videos:  79%|███████▊  | 85/108 [15:42<04:57, 12.93s/it]"
     ]
    },
    {
     "name": "stdout",
     "output_type": "stream",
     "text": [
      "✓ 117873.mp4: 361 frames, fakeness = 0.0997\n"
     ]
    },
    {
     "name": "stderr",
     "output_type": "stream",
     "text": [
      "Processing videos:  80%|███████▉  | 86/108 [15:57<05:03, 13.82s/it]"
     ]
    },
    {
     "name": "stdout",
     "output_type": "stream",
     "text": [
      "✓ 117874.mp4: 358 frames, fakeness = 0.0985\n"
     ]
    },
    {
     "name": "stderr",
     "output_type": "stream",
     "text": [
      "Processing videos:  81%|████████  | 87/108 [16:16<05:20, 15.28s/it]"
     ]
    },
    {
     "name": "stdout",
     "output_type": "stream",
     "text": [
      "✓ 117875.mp4: 341 frames, fakeness = 0.0888\n"
     ]
    },
    {
     "name": "stderr",
     "output_type": "stream",
     "text": [
      "Processing videos:  81%|████████▏ | 88/108 [16:32<05:08, 15.41s/it]"
     ]
    },
    {
     "name": "stdout",
     "output_type": "stream",
     "text": [
      "✓ 117876.mp4: 347 frames, fakeness = 0.0968\n"
     ]
    },
    {
     "name": "stderr",
     "output_type": "stream",
     "text": [
      "Processing videos:  82%|████████▏ | 89/108 [16:53<05:28, 17.27s/it]"
     ]
    },
    {
     "name": "stdout",
     "output_type": "stream",
     "text": [
      "✓ 117877.mp4: 420 frames, fakeness = 0.1628\n"
     ]
    },
    {
     "name": "stderr",
     "output_type": "stream",
     "text": [
      "Processing videos:  83%|████████▎ | 90/108 [17:17<05:43, 19.10s/it]"
     ]
    },
    {
     "name": "stdout",
     "output_type": "stream",
     "text": [
      "✓ 117878.mp4: 447 frames, fakeness = 0.1252\n"
     ]
    },
    {
     "name": "stderr",
     "output_type": "stream",
     "text": [
      "Processing videos:  84%|████████▍ | 91/108 [17:36<05:23, 19.06s/it]"
     ]
    },
    {
     "name": "stdout",
     "output_type": "stream",
     "text": [
      "✓ 117879.mp4: 424 frames, fakeness = 0.1201\n"
     ]
    },
    {
     "name": "stderr",
     "output_type": "stream",
     "text": [
      "Processing videos:  85%|████████▌ | 92/108 [17:59<05:23, 20.23s/it]"
     ]
    },
    {
     "name": "stdout",
     "output_type": "stream",
     "text": [
      "✓ 117880.mp4: 447 frames, fakeness = 0.1229\n"
     ]
    },
    {
     "name": "stderr",
     "output_type": "stream",
     "text": [
      "Processing videos:  86%|████████▌ | 93/108 [18:18<04:57, 19.84s/it]"
     ]
    },
    {
     "name": "stdout",
     "output_type": "stream",
     "text": [
      "✓ 117881.mp4: 429 frames, fakeness = 0.1242\n"
     ]
    },
    {
     "name": "stderr",
     "output_type": "stream",
     "text": [
      "Processing videos:  87%|████████▋ | 94/108 [18:39<04:44, 20.34s/it]"
     ]
    },
    {
     "name": "stdout",
     "output_type": "stream",
     "text": [
      "✓ 117882.mp4: 422 frames, fakeness = 0.1174\n"
     ]
    },
    {
     "name": "stderr",
     "output_type": "stream",
     "text": [
      "Processing videos:  88%|████████▊ | 95/108 [19:02<04:32, 20.98s/it]"
     ]
    },
    {
     "name": "stdout",
     "output_type": "stream",
     "text": [
      "✓ 117883.mp4: 429 frames, fakeness = 0.1317\n"
     ]
    },
    {
     "name": "stderr",
     "output_type": "stream",
     "text": [
      "Processing videos:  89%|████████▉ | 96/108 [19:11<03:31, 17.62s/it]"
     ]
    },
    {
     "name": "stdout",
     "output_type": "stream",
     "text": [
      "✓ 117884.mp4: 211 frames, fakeness = 0.1547\n"
     ]
    },
    {
     "name": "stderr",
     "output_type": "stream",
     "text": [
      "Processing videos:  90%|████████▉ | 97/108 [19:25<03:01, 16.54s/it]"
     ]
    },
    {
     "name": "stdout",
     "output_type": "stream",
     "text": [
      "✓ 117889.mp4: 331 frames, fakeness = 0.1186\n"
     ]
    },
    {
     "name": "stderr",
     "output_type": "stream",
     "text": [
      "Processing videos:  91%|█████████ | 98/108 [19:46<02:56, 17.69s/it]"
     ]
    },
    {
     "name": "stdout",
     "output_type": "stream",
     "text": [
      "✓ 117890.mp4: 382 frames, fakeness = 0.0572\n"
     ]
    },
    {
     "name": "stderr",
     "output_type": "stream",
     "text": [
      "Processing videos:  92%|█████████▏| 99/108 [20:01<02:32, 16.94s/it]"
     ]
    },
    {
     "name": "stdout",
     "output_type": "stream",
     "text": [
      "✓ 117891.mp4: 335 frames, fakeness = 0.0682\n"
     ]
    },
    {
     "name": "stderr",
     "output_type": "stream",
     "text": [
      "Processing videos:  93%|█████████▎| 100/108 [20:21<02:22, 17.80s/it]"
     ]
    },
    {
     "name": "stdout",
     "output_type": "stream",
     "text": [
      "✓ 117892.mp4: 383 frames, fakeness = 0.0743\n"
     ]
    },
    {
     "name": "stderr",
     "output_type": "stream",
     "text": [
      "Processing videos:  94%|█████████▎| 101/108 [20:37<02:00, 17.29s/it]"
     ]
    },
    {
     "name": "stdout",
     "output_type": "stream",
     "text": [
      "✓ 117893.mp4: 361 frames, fakeness = 0.0762\n"
     ]
    },
    {
     "name": "stderr",
     "output_type": "stream",
     "text": [
      "Processing videos:  94%|█████████▍| 102/108 [20:55<01:45, 17.59s/it]"
     ]
    },
    {
     "name": "stdout",
     "output_type": "stream",
     "text": [
      "✓ 117894.mp4: 333 frames, fakeness = 0.0712\n"
     ]
    },
    {
     "name": "stderr",
     "output_type": "stream",
     "text": [
      "Processing videos:  95%|█████████▌| 103/108 [21:11<01:25, 17.13s/it]"
     ]
    },
    {
     "name": "stdout",
     "output_type": "stream",
     "text": [
      "✓ 117895.mp4: 360 frames, fakeness = 0.0542\n"
     ]
    },
    {
     "name": "stderr",
     "output_type": "stream",
     "text": [
      "Processing videos:  96%|█████████▋| 104/108 [21:22<01:01, 15.33s/it]"
     ]
    },
    {
     "name": "stdout",
     "output_type": "stream",
     "text": [
      "✓ 117896.mp4: 179 frames, fakeness = 0.0873\n"
     ]
    },
    {
     "name": "stderr",
     "output_type": "stream",
     "text": [
      "Processing videos:  97%|█████████▋| 105/108 [21:28<00:37, 12.33s/it]"
     ]
    },
    {
     "name": "stdout",
     "output_type": "stream",
     "text": [
      "✓ 117897.mp4: 120 frames, fakeness = 0.0732\n"
     ]
    },
    {
     "name": "stderr",
     "output_type": "stream",
     "text": [
      "Processing videos:  98%|█████████▊| 106/108 [21:34<00:21, 10.56s/it]"
     ]
    },
    {
     "name": "stdout",
     "output_type": "stream",
     "text": [
      "✓ 117898.mp4: 139 frames, fakeness = 0.0795\n"
     ]
    },
    {
     "name": "stderr",
     "output_type": "stream",
     "text": [
      "Processing videos:  99%|█████████▉| 107/108 [21:40<00:08,  9.00s/it]"
     ]
    },
    {
     "name": "stdout",
     "output_type": "stream",
     "text": [
      "✓ 117899.mp4: 123 frames, fakeness = 0.0593\n"
     ]
    },
    {
     "name": "stderr",
     "output_type": "stream",
     "text": [
      "Processing videos: 100%|██████████| 108/108 [21:46<00:00, 12.09s/it]"
     ]
    },
    {
     "name": "stdout",
     "output_type": "stream",
     "text": [
      "✓ 117900.mp4: 137 frames, fakeness = 0.0566\n",
      "\n",
      "Đã xử lý xong 108 video\n"
     ]
    },
    {
     "name": "stderr",
     "output_type": "stream",
     "text": [
      "\n"
     ]
    }
   ],
   "source": [
    "import json\n",
    "import os\n",
    "from tqdm import tqdm\n",
    "import pandas as pd\n",
    "from datetime import datetime\n",
    "\n",
    "def process_all_videos():\n",
    "    # Đường dẫn tới thư mục chứa video và metadata\n",
    "    base_path = '/mnt/e/FPTUNI/doantotnghiep/Comparing Models/SelfBlendedImages/LAV_DF_Small/LAV_DF_Small'\n",
    "    metadata_path = os.path.join(base_path, 'metadata.min.json')\n",
    "    weight_path = '/mnt/e/FPTUNI/doantotnghiep/Comparing Models/SelfBlendedImages/weights/FFc23.tar'\n",
    "    \n",
    "    # Đọc metadata\n",
    "    with open(metadata_path, 'r') as f:\n",
    "        original_metadata = json.load(f)\n",
    "    \n",
    "    # Tạo dictionary để tra cứu metadata theo tên file\n",
    "    metadata_dict = {os.path.basename(item['file']): item for item in original_metadata}\n",
    "    \n",
    "    # Khởi tạo model\n",
    "    device = 'cuda'\n",
    "    model = Detector()\n",
    "    model = model.to(device)\n",
    "    cnn_sd = torch.load(weight_path)[\"model\"]\n",
    "    model.load_state_dict(cnn_sd)\n",
    "    model.eval()\n",
    "    \n",
    "    # Lấy danh sách tất cả file mp4 trong thư mục\n",
    "    video_files = [f for f in os.listdir(base_path) if f.endswith('.mp4')]\n",
    "    video_files.sort()\n",
    "    \n",
    "    print(f\"Tìm thấy {len(video_files)} video files\")\n",
    "    \n",
    "    # Danh sách để lưu metadata mới\n",
    "    new_metadata = []\n",
    "    \n",
    "    # Xử lý từng video\n",
    "    for video_file in tqdm(video_files, desc=\"Processing videos\"):\n",
    "        video_path = os.path.join(base_path, video_file)\n",
    "        \n",
    "        # Lấy metadata gốc\n",
    "        if video_file in metadata_dict:\n",
    "            original_meta = metadata_dict[video_file].copy()\n",
    "            total_frames = original_meta['video_frames']\n",
    "        else:\n",
    "            print(f\"Không tìm thấy metadata cho {video_file}\")\n",
    "            continue\n",
    "        \n",
    "        try:\n",
    "            # Sử dụng tổng số frame thay vì chỉ 32 frame\n",
    "            face_list, idx_list = extract_frames(video_path, total_frames)\n",
    "            \n",
    "            if len(face_list) == 0:\n",
    "                print(f\"Không thể extract frame từ {video_file}\")\n",
    "                continue\n",
    "            \n",
    "            frame_predictions = []\n",
    "            frame_details = []\n",
    "            \n",
    "            # Xử lý từng frame\n",
    "            with torch.no_grad():\n",
    "                for i, frame in enumerate(face_list):\n",
    "                    # Chuyển frame thành tensor và normalize\n",
    "                    img = torch.tensor(frame).unsqueeze(0).to(device).float() / 255\n",
    "                    pred = model(img).softmax(1)[0, 1]  # Lấy xác suất fake\n",
    "                    \n",
    "                    frame_idx = idx_list[i]\n",
    "                    pred_value = pred.item()\n",
    "                    frame_predictions.append(pred_value)\n",
    "                    frame_details.append({\n",
    "                        'frame_index': frame_idx,\n",
    "                        'fakeness_score': pred_value\n",
    "                    })\n",
    "            \n",
    "            # Tính prediction cuối cùng (trung bình)\n",
    "            final_prediction = np.mean(frame_predictions)\n",
    "            \n",
    "            # Tạo metadata mới\n",
    "            new_meta = original_meta.copy()\n",
    "            new_meta['frame_predictions'] = frame_details\n",
    "            new_meta['final_fakeness_score'] = final_prediction\n",
    "            new_meta['total_frames_processed'] = len(frame_predictions)\n",
    "            new_meta['processing_timestamp'] = datetime.now().isoformat()\n",
    "            \n",
    "            new_metadata.append(new_meta)\n",
    "            \n",
    "            print(f\"✓ {video_file}: {len(frame_predictions)} frames, fakeness = {final_prediction:.4f}\")\n",
    "            \n",
    "        except Exception as e:\n",
    "            print(f\"✗ Lỗi khi xử lý {video_file}: {str(e)}\")\n",
    "            continue\n",
    "    \n",
    "    return new_metadata\n",
    "\n",
    "# Chạy xử lý\n",
    "print(\"Bắt đầu xử lý tất cả video...\")\n",
    "new_metadata = process_all_videos()\n",
    "print(f\"\\nĐã xử lý xong {len(new_metadata)} video\")"
   ]
  },
  {
   "cell_type": "code",
   "execution_count": 21,
   "id": "3654fd30",
   "metadata": {},
   "outputs": [
    {
     "name": "stdout",
     "output_type": "stream",
     "text": [
      "Đã lưu metadata mới tại: /mnt/e/FPTUNI/doantotnghiep/Comparing Models/new_metadata_with_predictions.json\n",
      "\n",
      "=== PHÂN TÍCH KẾT QUẢ ===\n",
      "Tổng số video đã xử lý: 108\n",
      "Video thật: 23\n",
      "Video fake: 85\n",
      "\n",
      "Video thật:\n",
      "  - Fakeness score trung bình: 0.3300\n",
      "  - Fakeness score min: 0.0504\n",
      "  - Fakeness score max: 0.7795\n",
      "\n",
      "Video fake:\n",
      "  - Fakeness score trung bình: 0.2551\n",
      "  - Fakeness score min: 0.0542\n",
      "  - Fakeness score max: 0.7229\n",
      "\n",
      "Độ chính xác với threshold 0.5: 0.2593 (28/108)\n",
      "\n",
      "=== VÍ DỤ KẾT QUẢ ===\n",
      "000006.mp4: FAKE | Score: 0.0933 | Frames: 339\n",
      "000008.mp4: FAKE | Score: 0.0832 | Frames: 340\n",
      "000009.mp4: FAKE | Score: 0.0660 | Frames: 357\n",
      "000010.mp4: FAKE | Score: 0.1033 | Frames: 348\n",
      "000011.mp4: FAKE | Score: 0.0771 | Frames: 355\n"
     ]
    }
   ],
   "source": [
    "# Lưu metadata mới\n",
    "output_path = '/mnt/e/FPTUNI/doantotnghiep/Comparing Models/new_metadata_with_predictions.json'\n",
    "with open(output_path, 'w') as f:\n",
    "    json.dump(new_metadata, f, indent=2, ensure_ascii=False)\n",
    "\n",
    "print(f\"Đã lưu metadata mới tại: {output_path}\")\n",
    "\n",
    "# Phân tích kết quả\n",
    "if len(new_metadata) > 0:\n",
    "    print(\"\\n=== PHÂN TÍCH KẾT QUẢ ===\")\n",
    "    \n",
    "    # Tính toán thống kê\n",
    "    real_videos = [meta for meta in new_metadata if meta['n_fakes'] == 0]\n",
    "    fake_videos = [meta for meta in new_metadata if meta['n_fakes'] > 0]\n",
    "    \n",
    "    real_scores = [meta['final_fakeness_score'] for meta in real_videos]\n",
    "    fake_scores = [meta['final_fakeness_score'] for meta in fake_videos]\n",
    "    \n",
    "    print(f\"Tổng số video đã xử lý: {len(new_metadata)}\")\n",
    "    print(f\"Video thật: {len(real_videos)}\")\n",
    "    print(f\"Video fake: {len(fake_videos)}\")\n",
    "    \n",
    "    if real_scores:\n",
    "        print(f\"\\nVideo thật:\")\n",
    "        print(f\"  - Fakeness score trung bình: {np.mean(real_scores):.4f}\")\n",
    "        print(f\"  - Fakeness score min: {np.min(real_scores):.4f}\")\n",
    "        print(f\"  - Fakeness score max: {np.max(real_scores):.4f}\")\n",
    "    \n",
    "    if fake_scores:\n",
    "        print(f\"\\nVideo fake:\")\n",
    "        print(f\"  - Fakeness score trung bình: {np.mean(fake_scores):.4f}\")\n",
    "        print(f\"  - Fakeness score min: {np.min(fake_scores):.4f}\")\n",
    "        print(f\"  - Fakeness score max: {np.max(fake_scores):.4f}\")\n",
    "    \n",
    "    # Phân loại dựa trên threshold\n",
    "    threshold = 0.5\n",
    "    correct_predictions = 0\n",
    "    total_predictions = len(new_metadata)\n",
    "    \n",
    "    for meta in new_metadata:\n",
    "        predicted_fake = meta['final_fakeness_score'] > threshold\n",
    "        actual_fake = meta['n_fakes'] > 0\n",
    "        if predicted_fake == actual_fake:\n",
    "            correct_predictions += 1\n",
    "    \n",
    "    accuracy = correct_predictions / total_predictions if total_predictions > 0 else 0\n",
    "    print(f\"\\nĐộ chính xác với threshold {threshold}: {accuracy:.4f} ({correct_predictions}/{total_predictions})\")\n",
    "    \n",
    "    # Hiển thị một số ví dụ\n",
    "    print(\"\\n=== VÍ DỤ KẾT QUẢ ===\")\n",
    "    for i, meta in enumerate(new_metadata[:5]):\n",
    "        filename = os.path.basename(meta['file'])\n",
    "        is_fake = \"FAKE\" if meta['n_fakes'] > 0 else \"REAL\"\n",
    "        score = meta['final_fakeness_score']\n",
    "        frames_processed = meta['total_frames_processed']\n",
    "        print(f\"{filename}: {is_fake} | Score: {score:.4f} | Frames: {frames_processed}\")\n",
    "        \n",
    "else:\n",
    "    print(\"Không có metadata nào được tạo!\")"
   ]
  },
  {
   "cell_type": "code",
   "execution_count": 24,
   "id": "7553b1be",
   "metadata": {},
   "outputs": [
    {
     "data": {
      "image/png": "[encoded data removed]",
      "text/plain": [
       "<Figure size 1500x1000 with 4 Axes>"
      ]
     },
     "metadata": {},
     "output_type": "display_data"
    },
    {
     "data": {
      "image/png": "[encoded data removed]",
      "text/plain": [
       "<Figure size 800x600 with 2 Axes>"
      ]
     },
     "metadata": {},
     "output_type": "display_data"
    },
    {
     "name": "stdout",
     "output_type": "stream",
     "text": [
      "\n",
      "=== CLASSIFICATION REPORT ===\n",
      "              precision    recall  f1-score   support\n",
      "\n",
      "        Real       0.19      0.78      0.31        23\n",
      "        Fake       0.67      0.12      0.20        85\n",
      "\n",
      "    accuracy                           0.26       108\n",
      "   macro avg       0.43      0.45      0.26       108\n",
      "weighted avg       0.57      0.26      0.22       108\n",
      "\n"
     ]
    }
   ],
   "source": [
    "# Trực quan hóa kết quả\n",
    "if len(new_metadata) > 0:\n",
    "    import matplotlib.pyplot as plt\n",
    "    \n",
    "    # Tạo figure với nhiều subplot\n",
    "    fig, axes = plt.subplots(2, 2, figsize=(15, 10))\n",
    "    \n",
    "    # 1. Histogram so sánh fakeness scores\n",
    "    real_scores = [meta['final_fakeness_score'] for meta in new_metadata if meta['n_fakes'] == 0]\n",
    "    fake_scores = [meta['final_fakeness_score'] for meta in new_metadata if meta['n_fakes'] > 0]\n",
    "    \n",
    "    axes[0, 0].hist(real_scores, bins=20, alpha=0.7, label='Real Videos', color='blue')\n",
    "    axes[0, 0].hist(fake_scores, bins=20, alpha=0.7, label='Fake Videos', color='red')\n",
    "    axes[0, 0].set_xlabel('Fakeness Score')\n",
    "    axes[0, 0].set_ylabel('Frequency')\n",
    "    axes[0, 0].set_title('Distribution of Fakeness Scores')\n",
    "    axes[0, 0].legend()\n",
    "    axes[0, 0].axvline(x=0.5, color='black', linestyle='--', label='Threshold')\n",
    "    \n",
    "    # 2. Scatter plot: Number of frames vs Fakeness score\n",
    "    frames_processed = [meta['total_frames_processed'] for meta in new_metadata]\n",
    "    all_scores = [meta['final_fakeness_score'] for meta in new_metadata]\n",
    "    colors = ['red' if meta['n_fakes'] > 0 else 'blue' for meta in new_metadata]\n",
    "    \n",
    "    axes[0, 1].scatter(frames_processed, all_scores, c=colors, alpha=0.6)\n",
    "    axes[0, 1].set_xlabel('Number of Frames Processed')\n",
    "    axes[0, 1].set_ylabel('Fakeness Score')\n",
    "    axes[0, 1].set_title('Frames Processed vs Fakeness Score')\n",
    "    axes[0, 1].axhline(y=0.5, color='black', linestyle='--', alpha=0.5)\n",
    "    \n",
    "    # 3. Bar chart: Accuracy by different thresholds\n",
    "    thresholds = np.arange(0.1, 1.0, 0.1)\n",
    "    accuracies = []\n",
    "    \n",
    "    for thresh in thresholds:\n",
    "        correct = 0\n",
    "        for meta in new_metadata:\n",
    "            predicted_fake = meta['final_fakeness_score'] > thresh\n",
    "            actual_fake = meta['n_fakes'] > 0\n",
    "            if predicted_fake == actual_fake:\n",
    "                correct += 1\n",
    "        accuracies.append(correct / len(new_metadata))\n",
    "    \n",
    "    axes[1, 0].bar(thresholds, accuracies, alpha=0.7, color='green')\n",
    "    axes[1, 0].set_xlabel('Threshold')\n",
    "    axes[1, 0].set_ylabel('Accuracy')\n",
    "    axes[1, 0].set_title('Accuracy vs Threshold')\n",
    "    axes[1, 0].set_ylim(0, 1)\n",
    "    \n",
    "    # 4. Box plot: Fakeness scores by video type\n",
    "    data_to_plot = [real_scores, fake_scores]\n",
    "    axes[1, 1].boxplot(data_to_plot, labels=['Real', 'Fake'])\n",
    "    axes[1, 1].set_ylabel('Fakeness Score')\n",
    "    axes[1, 1].set_title('Fakeness Score Distribution by Video Type')\n",
    "    axes[1, 1].axhline(y=0.5, color='red', linestyle='--', alpha=0.5)\n",
    "    \n",
    "    plt.tight_layout()\n",
    "    plt.show()\n",
    "    \n",
    "    # Tạo confusion matrix\n",
    "    \n",
    "    # Chuẩn bị dữ liệu cho confusion matrix\n",
    "    y_true = [1 if meta['n_fakes'] > 0 else 0 for meta in new_metadata]  # 1 = fake, 0 = real\n",
    "    y_pred = [1 if meta['final_fakeness_score'] > 0.5 else 0 for meta in new_metadata]\n",
    "    \n",
    "    cm = confusion_matrix(y_true, y_pred)\n",
    "    \n",
    "    # Vẽ confusion matrix\n",
    "    plt.figure(figsize=(8, 6))\n",
    "    plt.imshow(cm, interpolation='nearest', cmap=plt.cm.Blues)\n",
    "    plt.title('Confusion Matrix')\n",
    "    plt.colorbar()\n",
    "    tick_marks = np.arange(2)\n",
    "    plt.xticks(tick_marks, ['Real', 'Fake'])\n",
    "    plt.yticks(tick_marks, ['Real', 'Fake'])\n",
    "    \n",
    "    # Thêm text vào confusion matrix\n",
    "    thresh = cm.max() / 2.\n",
    "    for i, j in np.ndindex(cm.shape):\n",
    "        plt.text(j, i, format(cm[i, j], 'd'),\n",
    "                ha=\"center\", va=\"center\",\n",
    "                color=\"white\" if cm[i, j] > thresh else \"black\")\n",
    "    \n",
    "    plt.ylabel('True Label')\n",
    "    plt.xlabel('Predicted Label')\n",
    "    plt.tight_layout()\n",
    "    plt.show()\n",
    "    \n",
    "    # In classification report\n",
    "    print(\"\\n=== CLASSIFICATION REPORT ===\")\n",
    "    print(classification_report(y_true, y_pred, target_names=['Real', 'Fake']))\n",
    "    \n",
    "else:\n",
    "    print(\"Không có dữ liệu để trực quan hóa!\")"
   ]
  },
  {
   "cell_type": "code",
   "execution_count": 23,
   "id": "7dd97284",
   "metadata": {},
   "outputs": [
    {
     "name": "stdout",
     "output_type": "stream",
     "text": [
      "scikit-learn đã có sẵn\n"
     ]
    }
   ],
   "source": [
    "# Install scikit-learn nếu chưa có\n",
    "try:\n",
    "    from sklearn.metrics import confusion_matrix, classification_report\n",
    "    print(\"scikit-learn đã có sẵn\")\n",
    "except ImportError:\n",
    "    print(\"Đang cài đặt scikit-learn...\")\n",
    "    !pip install scikit-learn\n",
    "    from sklearn.metrics import confusion_matrix, classification_report\n",
    "    print(\"Đã cài đặt scikit-learn thành công\")"
   ]
  },
  {
   "cell_type": "code",
   "execution_count": 2,
   "id": "7b721688",
   "metadata": {},
   "outputs": [
    {
     "name": "stdout",
     "output_type": "stream",
     "text": [
      "=== PHÂN TÍCH FILE VIDEO THỰC TẾ TRONG THƯMỤC LAV_DF_Small ===\n",
      "Tổng số file .mp4 có trong thư mục: 108\n",
      "Tổng số entries trong metadata: 136304\n",
      "\n",
      "=== THỐNG KÊ PHÂN LOẠI ===\n",
      "File REAL: 23\n",
      "File FAKE: 85\n",
      "File không có metadata: 0\n",
      "\n",
      "=== DANH SÁCH FILE REAL (23 files) ===\n",
      "  1. 000012.mp4 (Frames: 189)\n",
      "  2. 000016.mp4 (Frames: 164)\n",
      "  3. 000404.mp4 (Frames: 149)\n",
      "  4. 000408.mp4 (Frames: 215)\n",
      "  5. 000469.mp4 (Frames: 125)\n",
      "  6. 000473.mp4 (Frames: 102)\n",
      "  7. 000477.mp4 (Frames: 140)\n",
      "  8. 000481.mp4 (Frames: 137)\n",
      "  9. 000485.mp4 (Frames: 106)\n",
      " 10. 000489.mp4 (Frames: 401)\n",
      " 11. 113696.mp4 (Frames: 308)\n",
      " 12. 113700.mp4 (Frames: 240)\n",
      " 13. 113704.mp4 (Frames: 253)\n",
      " 14. 114583.mp4 (Frames: 462)\n",
      " 15. 114590.mp4 (Frames: 285)\n",
      " 16. 114661.mp4 (Frames: 268)\n",
      " 17. 114668.mp4 (Frames: 157)\n",
      " 18. 114672.mp4 (Frames: 258)\n",
      " 19. 117877.mp4 (Frames: 420)\n",
      " 20. 117884.mp4 (Frames: 211)\n",
      " 21. 117889.mp4 (Frames: 331)\n",
      " 22. 117896.mp4 (Frames: 179)\n",
      " 23. 117897.mp4 (Frames: 120)\n",
      "\n",
      "=== DANH SÁCH FILE FAKE (85 files) ===\n",
      "  1. 000006.mp4 (Frames: 339, N_fakes: 2)\n",
      "  2. 000008.mp4 (Frames: 340, N_fakes: 2)\n",
      "  3. 000009.mp4 (Frames: 357, N_fakes: 1)\n",
      "  4. 000010.mp4 (Frames: 348, N_fakes: 1)\n",
      "  5. 000011.mp4 (Frames: 355, N_fakes: 1)\n",
      "  6. 000013.mp4 (Frames: 202, N_fakes: 1)\n",
      "  7. 000014.mp4 (Frames: 191, N_fakes: 1)\n",
      "  8. 000015.mp4 (Frames: 200, N_fakes: 1)\n",
      "  9. 000017.mp4 (Frames: 186, N_fakes: 1)\n",
      " 10. 000018.mp4 (Frames: 167, N_fakes: 1)\n",
      " 11. 000400.mp4 (Frames: 457, N_fakes: 2)\n",
      " 12. 000401.mp4 (Frames: 464, N_fakes: 1)\n",
      " 13. 000402.mp4 (Frames: 457, N_fakes: 1)\n",
      " 14. 000403.mp4 (Frames: 464, N_fakes: 1)\n",
      " 15. 000405.mp4 (Frames: 163, N_fakes: 1)\n",
      " 16. 000406.mp4 (Frames: 151, N_fakes: 1)\n",
      " 17. 000407.mp4 (Frames: 163, N_fakes: 1)\n",
      " 18. 000409.mp4 (Frames: 222, N_fakes: 1)\n",
      " 19. 000410.mp4 (Frames: 217, N_fakes: 1)\n",
      " 20. 000411.mp4 (Frames: 221, N_fakes: 1)\n",
      " 21. 000470.mp4 (Frames: 144, N_fakes: 1)\n",
      " 22. 000471.mp4 (Frames: 127, N_fakes: 1)\n",
      " 23. 000472.mp4 (Frames: 147, N_fakes: 1)\n",
      " 24. 000474.mp4 (Frames: 123, N_fakes: 1)\n",
      " 25. 000475.mp4 (Frames: 104, N_fakes: 1)\n",
      " 26. 000476.mp4 (Frames: 127, N_fakes: 1)\n",
      " 27. 000478.mp4 (Frames: 159, N_fakes: 1)\n",
      " 28. 000479.mp4 (Frames: 142, N_fakes: 1)\n",
      " 29. 000480.mp4 (Frames: 157, N_fakes: 1)\n",
      " 30. 000482.mp4 (Frames: 160, N_fakes: 1)\n",
      " 31. 000483.mp4 (Frames: 140, N_fakes: 1)\n",
      " 32. 000484.mp4 (Frames: 157, N_fakes: 1)\n",
      " 33. 000486.mp4 (Frames: 111, N_fakes: 1)\n",
      " 34. 000487.mp4 (Frames: 107, N_fakes: 1)\n",
      " 35. 000488.mp4 (Frames: 111, N_fakes: 1)\n",
      " 36. 000490.mp4 (Frames: 426, N_fakes: 2)\n",
      " 37. 000491.mp4 (Frames: 405, N_fakes: 2)\n",
      " 38. 000492.mp4 (Frames: 425, N_fakes: 2)\n",
      " 39. 113695.mp4 (Frames: 149, N_fakes: 1)\n",
      " 40. 113697.mp4 (Frames: 317, N_fakes: 1)\n",
      " 41. 113698.mp4 (Frames: 311, N_fakes: 1)\n",
      " 42. 113699.mp4 (Frames: 317, N_fakes: 1)\n",
      " 43. 113701.mp4 (Frames: 249, N_fakes: 1)\n",
      " 44. 113702.mp4 (Frames: 242, N_fakes: 1)\n",
      " 45. 113703.mp4 (Frames: 247, N_fakes: 1)\n",
      " 46. 113705.mp4 (Frames: 273, N_fakes: 2)\n",
      " 47. 113706.mp4 (Frames: 257, N_fakes: 2)\n",
      " 48. 114584.mp4 (Frames: 484, N_fakes: 2)\n",
      " 49. 114585.mp4 (Frames: 466, N_fakes: 2)\n",
      " 50. 114586.mp4 (Frames: 484, N_fakes: 2)\n",
      " 51. 114587.mp4 (Frames: 476, N_fakes: 1)\n",
      " 52. 114588.mp4 (Frames: 464, N_fakes: 1)\n",
      " 53. 114589.mp4 (Frames: 475, N_fakes: 1)\n",
      " 54. 114591.mp4 (Frames: 323, N_fakes: 2)\n",
      " 55. 114592.mp4 (Frames: 289, N_fakes: 2)\n",
      " 56. 114593.mp4 (Frames: 325, N_fakes: 2)\n",
      " 57. 114594.mp4 (Frames: 302, N_fakes: 1)\n",
      " 58. 114662.mp4 (Frames: 316, N_fakes: 2)\n",
      " 59. 114663.mp4 (Frames: 272, N_fakes: 2)\n",
      " 60. 114664.mp4 (Frames: 317, N_fakes: 2)\n",
      " 61. 114665.mp4 (Frames: 293, N_fakes: 1)\n",
      " 62. 114666.mp4 (Frames: 270, N_fakes: 1)\n",
      " 63. 114667.mp4 (Frames: 293, N_fakes: 1)\n",
      " 64. 114669.mp4 (Frames: 177, N_fakes: 1)\n",
      " 65. 114670.mp4 (Frames: 160, N_fakes: 1)\n",
      " 66. 114671.mp4 (Frames: 176, N_fakes: 1)\n",
      " 67. 117873.mp4 (Frames: 361, N_fakes: 2)\n",
      " 68. 117874.mp4 (Frames: 358, N_fakes: 1)\n",
      " 69. 117875.mp4 (Frames: 341, N_fakes: 1)\n",
      " 70. 117876.mp4 (Frames: 347, N_fakes: 1)\n",
      " 71. 117878.mp4 (Frames: 447, N_fakes: 2)\n",
      " 72. 117879.mp4 (Frames: 424, N_fakes: 2)\n",
      " 73. 117880.mp4 (Frames: 447, N_fakes: 2)\n",
      " 74. 117881.mp4 (Frames: 429, N_fakes: 1)\n",
      " 75. 117882.mp4 (Frames: 422, N_fakes: 1)\n",
      " 76. 117883.mp4 (Frames: 429, N_fakes: 1)\n",
      " 77. 117890.mp4 (Frames: 382, N_fakes: 2)\n",
      " 78. 117891.mp4 (Frames: 335, N_fakes: 2)\n",
      " 79. 117892.mp4 (Frames: 383, N_fakes: 2)\n",
      " 80. 117893.mp4 (Frames: 361, N_fakes: 1)\n",
      " 81. 117894.mp4 (Frames: 333, N_fakes: 1)\n",
      " 82. 117895.mp4 (Frames: 360, N_fakes: 1)\n",
      " 83. 117898.mp4 (Frames: 139, N_fakes: 1)\n",
      " 84. 117899.mp4 (Frames: 123, N_fakes: 1)\n",
      " 85. 117900.mp4 (Frames: 137, N_fakes: 1)\n",
      "\n",
      "=== TỔNG KẾT ===\n",
      "Danh sách file REAL: ['000012.mp4', '000016.mp4', '000404.mp4', '000408.mp4', '000469.mp4']...\n",
      "Danh sách file FAKE: ['000006.mp4', '000008.mp4', '000009.mp4', '000010.mp4', '000011.mp4']...\n"
     ]
    }
   ],
   "source": [
    "# Liệt kê các file video thực tế có trong thư mục LAV_DF_Small và phân loại real/fake\n",
    "import json\n",
    "import os\n",
    "\n",
    "def analyze_actual_videos():\n",
    "    # Đường dẫn tới thư mục và metadata\n",
    "    base_path = '/mnt/e/FPTUNI/doantotnghiep/Comparing Models/SelfBlendedImages/LAV_DF_Small/LAV_DF_Small'\n",
    "    metadata_path = os.path.join(base_path, 'metadata.min.json')\n",
    "    \n",
    "    try:\n",
    "        # Đọc metadata\n",
    "        with open(metadata_path, 'r') as f:\n",
    "            metadata = json.load(f)\n",
    "        \n",
    "        # Tạo dictionary để tra cứu metadata theo tên file\n",
    "        metadata_dict = {}\n",
    "        for item in metadata:\n",
    "            filename = os.path.basename(item['file'])\n",
    "            metadata_dict[filename] = item\n",
    "        \n",
    "        # Lấy danh sách file thực tế có trong thư mục\n",
    "        actual_files = [f for f in os.listdir(base_path) if f.endswith('.mp4')]\n",
    "        actual_files.sort()\n",
    "        \n",
    "        print(f\"=== PHÂN TÍCH FILE VIDEO THỰC TẾ TRONG THƯMỤC LAV_DF_Small ===\")\n",
    "        print(f\"Tổng số file .mp4 có trong thư mục: {len(actual_files)}\")\n",
    "        print(f\"Tổng số entries trong metadata: {len(metadata)}\")\n",
    "        \n",
    "        # Phân loại file thực tế\n",
    "        existing_real = []\n",
    "        existing_fake = []\n",
    "        no_metadata = []\n",
    "        \n",
    "        for filename in actual_files:\n",
    "            if filename in metadata_dict:\n",
    "                meta = metadata_dict[filename]\n",
    "                if meta['n_fakes'] == 0:  # Video thật\n",
    "                    existing_real.append({\n",
    "                        'filename': filename,\n",
    "                        'frames': meta.get('video_frames', 'N/A'),\n",
    "                        'target': meta.get('target', 'N/A')\n",
    "                    })\n",
    "                else:  # Video fake\n",
    "                    existing_fake.append({\n",
    "                        'filename': filename,\n",
    "                        'frames': meta.get('video_frames', 'N/A'),\n",
    "                        'n_fakes': meta['n_fakes'],\n",
    "                        'target': meta.get('target', 'N/A')\n",
    "                    })\n",
    "            else:\n",
    "                no_metadata.append(filename)\n",
    "        \n",
    "        # Thống kê\n",
    "        print(f\"\\n=== THỐNG KÊ PHÂN LOẠI ===\")\n",
    "        print(f\"File REAL: {len(existing_real)}\")\n",
    "        print(f\"File FAKE: {len(existing_fake)}\")\n",
    "        print(f\"File không có metadata: {len(no_metadata)}\")\n",
    "        \n",
    "        # Hiển thị danh sách file REAL\n",
    "        print(f\"\\n=== DANH SÁCH FILE REAL ({len(existing_real)} files) ===\")\n",
    "        if len(existing_real) > 0:\n",
    "            for i, video in enumerate(existing_real):\n",
    "                print(f\"{i+1:3d}. {video['filename']} (Frames: {video['frames']})\")\n",
    "        else:\n",
    "            print(\"Không có file REAL nào\")\n",
    "        \n",
    "        # Hiển thị danh sách file FAKE  \n",
    "        print(f\"\\n=== DANH SÁCH FILE FAKE ({len(existing_fake)} files) ===\")\n",
    "        if len(existing_fake) > 0:\n",
    "            for i, video in enumerate(existing_fake):\n",
    "                print(f\"{i+1:3d}. {video['filename']} (Frames: {video['frames']}, N_fakes: {video['n_fakes']})\")\n",
    "        else:\n",
    "            print(\"Không có file FAKE nào\")\n",
    "        \n",
    "        # Hiển thị file không có metadata (nếu có)\n",
    "        if len(no_metadata) > 0:\n",
    "            print(f\"\\n=== FILE KHÔNG CÓ METADATA ({len(no_metadata)} files) ===\")\n",
    "            for i, filename in enumerate(no_metadata):\n",
    "                print(f\"{i+1:3d}. {filename}\")\n",
    "        \n",
    "        # Tạo danh sách đơn giản để dễ sử dụng\n",
    "        real_files = [v['filename'] for v in existing_real]\n",
    "        fake_files = [v['filename'] for v in existing_fake]\n",
    "        \n",
    "        print(f\"\\n=== TỔNG KẾT ===\")\n",
    "        print(f\"Danh sách file REAL: {real_files[:5]}{'...' if len(real_files) > 5 else ''}\")\n",
    "        print(f\"Danh sách file FAKE: {fake_files[:5]}{'...' if len(fake_files) > 5 else ''}\")\n",
    "        \n",
    "        return {\n",
    "            'real_files': real_files,\n",
    "            'fake_files': fake_files, \n",
    "            'no_metadata': no_metadata,\n",
    "            'real_details': existing_real,\n",
    "            'fake_details': existing_fake,\n",
    "            'total_files': len(actual_files)\n",
    "        }\n",
    "        \n",
    "    except FileNotFoundError:\n",
    "        print(f\"Không tìm thấy file metadata tại: {metadata_path}\")\n",
    "        return None\n",
    "    except json.JSONDecodeError:\n",
    "        print(f\"Lỗi decode JSON từ file: {metadata_path}\")\n",
    "        return None\n",
    "    except Exception as e:\n",
    "        print(f\"Lỗi: {str(e)}\")\n",
    "        return None\n",
    "\n",
    "# Chạy phân tích\n",
    "result = analyze_actual_videos()"
   ]
  }
 ],
 "metadata": {
  "kernelspec": {
   "display_name": ".venv",
   "language": "python",
   "name": "python3"
  },
  "language_info": {
   "codemirror_mode": {
    "name": "ipython",
    "version": 3
   },
   "file_extension": ".py",
   "mimetype": "text/x-python",
   "name": "python",
   "nbconvert_exporter": "python",
   "pygments_lexer": "ipython3",
   "version": "3.12.3"
  }
 },
 "nbformat": 4,
 "nbformat_minor": 5
}
